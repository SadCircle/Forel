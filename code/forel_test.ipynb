{
 "cells": [
  {
   "cell_type": "code",
   "execution_count": 2,
   "metadata": {},
   "outputs": [],
   "source": [
    "import numpy as np\n",
    "import copy\n",
    "import matplotlib.pyplot as plt \n"
   ]
  },
  {
   "cell_type": "code",
   "execution_count": 3,
   "metadata": {},
   "outputs": [],
   "source": [
    "class Forel:\n",
    "    def __init__(self,X,R):\n",
    "        self.points=np.copy(X)\n",
    "        self.uncolored_points=list(range(len(self.points)))\n",
    "        self.R=R\n",
    "        self.centers=[]\n",
    "        self.clusters=[]\n",
    "    \n",
    "    def _get_distance(self,point_1,point_2):\n",
    "        return np.linalg.norm(point_2-point_1)\n",
    "\n",
    "    def _get_points_for_cluster(self,cur_point):\n",
    "        return [point_n for point_n in self.uncolored_points if self._get_distance(cur_point,self.points[point_n])<=self.R]\n",
    "    \n",
    "    def _exclude_colored_points(self,cluster):\n",
    "        for item in cluster:\n",
    "            i=self.uncolored_points.index(item)\n",
    "            del(self.uncolored_points[i])\n",
    "    \n",
    "    def _reset_uncolored_points(self,old_cluster,new_cluster):\n",
    "        points_for_reset=np.delete(old_cluster,new_cluster)\n",
    "        self.uncolored_points+=points_for_reset\n",
    "\n",
    "    def _get_mean(self,cluster):\n",
    "        return np.mean(self.points[cluster],axis=0)\n",
    "\n",
    "    def get_new_centoid(self,cur_x,cluster):\n",
    "        old_x=cur_x\n",
    "        cur_x=self._get_mean(cluster)\n",
    "        new_cluster=self._get_points_for_cluster(cur_x)\n",
    "        #self._reset_uncolored_points(cluster,new_cluster)\n",
    "        return cur_x, new_cluster\n",
    "    \n",
    "    def vizualize(self):\n",
    "        plt.title('Представление точек')\n",
    "        colors=['r','b','y','m','c','k']\n",
    "        for n_cluster,cluster in enumerate(self.clusters):\n",
    "            points=self.points[cluster]\n",
    "            x_1 = []\n",
    "            y_1 = []\n",
    "            for el in points:\n",
    "                x_1.append(el[0])\n",
    "                y_1.append(el[1])\n",
    "            plt.scatter(x_1,y_1,marker='o',c=colors[n_cluster%len(colors)],edgecolor='b')\n",
    "\n",
    "        x_1 = []\n",
    "        y_1 = []\n",
    "        for n_cluster,el in enumerate(self.centers):\n",
    "            plt.scatter(el[0],el[1],marker='+',c=colors[n_cluster%len(colors)],edgecolor='r')\n",
    "        plt.grid()\n",
    "        plt.show()\n",
    "\n",
    "        \n",
    "\n",
    "    def fit(self):\n",
    "        while self.uncolored_points:\n",
    "            old_x=self.points[self.uncolored_points[np.random.choice(len(self.uncolored_points))]]\n",
    "            cluster=self._get_points_for_cluster(old_x)\n",
    "            cur_x,cluster=self.get_new_centoid(old_x,cluster)\n",
    "            while not np.array_equal(cur_x,old_x):\n",
    "                old_x=cur_x\n",
    "                cur_x,cluster=self.get_new_centoid(old_x,cluster)\n",
    "            self._exclude_colored_points(cluster)\n",
    "            self.centers.append(cur_x)\n",
    "            self.clusters.append(cluster)\n",
    "        \n",
    "\n",
    "                \n",
    "\n",
    "\n"
   ]
  },
  {
   "cell_type": "code",
   "execution_count": 6,
   "metadata": {},
   "outputs": [
    {
     "name": "stderr",
     "output_type": "stream",
     "text": [
      "C:\\Users\\servo\\AppData\\Local\\Temp/ipykernel_10948/3220511198.py:49: UserWarning: You passed a edgecolor/edgecolors ('r') for an unfilled marker ('+').  Matplotlib is ignoring the edgecolor in favor of the facecolor.  This behavior may change in the future.\n",
      "  plt.scatter(el[0],el[1],marker='+',c=colors[n_cluster%len(colors)],edgecolor='r')\n"
     ]
    },
    {
     "data": {
      "image/png": "[encoded data removed]",
      "text/plain": [
       "<Figure size 432x288 with 1 Axes>"
      ]
     },
     "metadata": {
      "needs_background": "light"
     },
     "output_type": "display_data"
    }
   ],
   "source": [
    "from sklearn.datasets import make_blobs\n",
    "X,y = make_blobs(n_samples=100, centers=3, n_features=2,random_state=6)\n",
    "R=4\n",
    "model=Forel(X,R)\n",
    "model.fit()\n",
    "model.vizualize()\n"
   ]
  },
  {
   "cell_type": "code",
   "execution_count": 96,
   "metadata": {},
   "outputs": [],
   "source": [
    "\n"
   ]
  },
  {
   "cell_type": "code",
   "execution_count": null,
   "metadata": {},
   "outputs": [],
   "source": []
  }
 ],
 "metadata": {
  "interpreter": {
   "hash": "55b48c5db416cdabfee748c4054e475a0143673f948d94a62593ec0703da4b78"
  },
  "kernelspec": {
   "display_name": "Python 3.9.9 64-bit (windows store)",
   "language": "python",
   "name": "python3"
  },
  "language_info": {
   "codemirror_mode": {
    "name": "ipython",
    "version": 3
   },
   "file_extension": ".py",
   "mimetype": "text/x-python",
   "name": "python",
   "nbconvert_exporter": "python",
   "pygments_lexer": "ipython3",
   "version": "3.9.9"
  },
  "orig_nbformat": 4
 },
 "nbformat": 4,
 "nbformat_minor": 2
}
